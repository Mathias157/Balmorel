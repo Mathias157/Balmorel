{
 "cells": [
  {
   "cell_type": "code",
   "execution_count": 2,
   "metadata": {},
   "outputs": [
    {
     "name": "stdout",
     "output_type": "stream",
     "text": [
      "Folder analysis not added to scenario as the necessary analysis/model/Balmorel.gms and/or analysis/model/cplex.op4 did not exist\n",
      "Folder .github not added to scenario as the necessary .github/model/Balmorel.gms and/or .github/model/cplex.op4 did not exist\n",
      "Folder 225a not added to scenario as the necessary 225a/model/Balmorel.gms and/or 225a/model/cplex.op4 did not exist\n",
      "Folder logs not added to scenario as the necessary logs/model/Balmorel.gms and/or logs/model/cplex.op4 did not exist\n",
      "/work3/mberos/Balmorel/base_medtemp/model/MainResults_firsttests.gdx\n",
      "/work3/mberos/Balmorel/base/model/MainResults_firsttests.gdx\n",
      "/work3/mberos/Balmorel/N10/model/MainResults_N10.gdx\n",
      "/work3/mberos/Balmorel/base_medlowtemp/model/MainResults_firsttests.gdx\n",
      "/work3/mberos/Balmorel/N2/model/MainResults_N2.gdx\n",
      "/work3/mberos/Balmorel/N70/model/MainResults_N70.gdx\n",
      "/work3/mberos/Balmorel/N30/model/MainResults_N30.gdx\n",
      "/work3/mberos/Balmorel/biotransport/model/MainResults_biotransport.gdx\n",
      "/work3/mberos/Balmorel/N50/model/MainResults_N50.gdx\n"
     ]
    }
   ],
   "source": [
    "from pybalmorel import Balmorel\n",
    "\n",
    "# Collect results\n",
    "m = Balmorel('../', gams_system_directory='/appl/gams/47.6.0')\n",
    "m.collect_results()"
   ]
  },
  {
   "cell_type": "code",
   "execution_count": 3,
   "metadata": {},
   "outputs": [
    {
     "name": "stdout",
     "output_type": "stream",
     "text": [
      "Result type: balmorel\n"
     ]
    },
    {
     "data": {
      "application/vnd.jupyter.widget-view+json": {
       "model_id": "093ff010aaeb4e15a3fabc6d81c894a8",
       "version_major": 2,
       "version_minor": 0
      },
      "text/plain": [
       "GridBox(children=(Dropdown(description='Table:', layout=Layout(width='80%'), options=('F_CONS_YCRA', 'F_CONS_Y…"
      ]
     },
     "metadata": {},
     "output_type": "display_data"
    },
    {
     "data": {
      "application/vnd.jupyter.widget-view+json": {
       "model_id": "3471e1b9f7cb43549360ee053a446ffd",
       "version_major": 2,
       "version_minor": 0
      },
      "text/plain": [
       "Output()"
      ]
     },
     "metadata": {},
     "output_type": "display_data"
    },
    {
     "data": {
      "application/vnd.jupyter.widget-view+json": {
       "model_id": "6d2a0e3c1cd8422d999547cbc11599fa",
       "version_major": 2,
       "version_minor": 0
      },
      "text/plain": [
       "Stack(children=(GridBox(children=(SelectMultiple(description='Scenario', index=(0,), layout=Layout(height='99%…"
      ]
     },
     "metadata": {},
     "output_type": "display_data"
    },
    {
     "data": {
      "application/vnd.jupyter.widget-view+json": {
       "model_id": "e59eb628fbfd42c9a80b9d8b157c68bd",
       "version_major": 2,
       "version_minor": 0
      },
      "text/plain": [
       "Output()"
      ]
     },
     "metadata": {},
     "output_type": "display_data"
    },
    {
     "data": {
      "application/vnd.jupyter.widget-view+json": {
       "model_id": "66d297eecd714642a3d8b5afe881374a",
       "version_major": 2,
       "version_minor": 0
      },
      "text/plain": [
       "VBox(children=(HBox(children=(Box(children=(Text(value='', description='Title:'), FloatSlider(value=12.0, desc…"
      ]
     },
     "metadata": {},
     "output_type": "display_data"
    },
    {
     "data": {
      "application/vnd.jupyter.widget-view+json": {
       "model_id": "a6edefdfb7794e538eeb7451fbcf8c0e",
       "version_major": 2,
       "version_minor": 0
      },
      "text/plain": [
       "Output()"
      ]
     },
     "metadata": {},
     "output_type": "display_data"
    },
    {
     "data": {
      "application/vnd.jupyter.widget-view+json": {
       "model_id": "e950a542d92e469cb1a1692cb5177ed4",
       "version_major": 2,
       "version_minor": 0
      },
      "text/plain": [
       "HBox()"
      ]
     },
     "metadata": {},
     "output_type": "display_data"
    },
    {
     "data": {
      "application/vnd.jupyter.widget-view+json": {
       "model_id": "101c5908ba594954832e3eb65c2a55cf",
       "version_major": 2,
       "version_minor": 0
      },
      "text/plain": [
       "Output()"
      ]
     },
     "metadata": {},
     "output_type": "display_data"
    },
    {
     "data": {
      "application/vnd.jupyter.widget-view+json": {
       "model_id": "cfe05b6dc57f4efd93d1385997e279a1",
       "version_major": 2,
       "version_minor": 0
      },
      "text/plain": [
       "VBox(children=(HBox(children=(Box(children=(Button(description='Plot', icon='check', style=ButtonStyle(), tool…"
      ]
     },
     "metadata": {},
     "output_type": "display_data"
    },
    {
     "data": {
      "application/vnd.jupyter.widget-view+json": {
       "model_id": "065776606d32481095857066634191e7",
       "version_major": 2,
       "version_minor": 0
      },
      "text/plain": [
       "Output()"
      ]
     },
     "metadata": {},
     "output_type": "display_data"
    },
    {
     "data": {
      "application/vnd.jupyter.widget-view+json": {
       "model_id": "57df07ee24884434a38cd3ebdc5cd83c",
       "version_major": 2,
       "version_minor": 0
      },
      "text/plain": [
       "Output()"
      ]
     },
     "metadata": {},
     "output_type": "display_data"
    }
   ],
   "source": [
    "# Interactive Bar Chart Plotting\n",
    "m.results.interactive_bar_chart(plot_style='dark')"
   ]
  }
 ],
 "metadata": {
  "kernelspec": {
   "display_name": "spatialstudy",
   "language": "python",
   "name": "python3"
  },
  "language_info": {
   "codemirror_mode": {
    "name": "ipython",
    "version": 3
   },
   "file_extension": ".py",
   "mimetype": "text/x-python",
   "name": "python",
   "nbconvert_exporter": "python",
   "pygments_lexer": "ipython3",
   "version": "3.11.10"
  }
 },
 "nbformat": 4,
 "nbformat_minor": 2
}
